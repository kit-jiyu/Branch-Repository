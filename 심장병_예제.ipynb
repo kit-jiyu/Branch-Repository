{
  "nbformat": 4,
  "nbformat_minor": 0,
  "metadata": {
    "colab": {
      "provenance": [],
      "include_colab_link": true
    },
    "kernelspec": {
      "name": "python3",
      "display_name": "Python 3"
    },
    "language_info": {
      "name": "python"
    }
  },
  "cells": [
    {
      "cell_type": "markdown",
      "metadata": {
        "id": "view-in-github",
        "colab_type": "text"
      },
      "source": [
        "<a href=\"https://colab.research.google.com/github/kit-jiyu/Branch-Repository/blob/main/%EC%8B%AC%EC%9E%A5%EB%B3%91_%EC%98%88%EC%A0%9C.ipynb\" target=\"_parent\"><img src=\"https://colab.research.google.com/assets/colab-badge.svg\" alt=\"Open In Colab\"/></a>"
      ]
    },
    {
      "cell_type": "code",
      "execution_count": null,
      "metadata": {
        "id": "pEnKplSEvSrQ",
        "colab": {
          "base_uri": "https://localhost:8080/"
        },
        "outputId": "f6460794-b18d-49e6-a65b-7981cbb38332"
      },
      "outputs": [
        {
          "output_type": "stream",
          "name": "stdout",
          "text": [
            "Mounted at /content/drive\n"
          ]
        }
      ],
      "source": [
        "from google.colab import drive\n",
        "drive.mount('/content/drive')"
      ]
    },
    {
      "cell_type": "markdown",
      "source": [
        "#1.필요한 모듈 import\n",
        "머신러닝에 필요한 파일, 함수들을 불러옵니다.\n"
      ],
      "metadata": {
        "id": "IUenIxcD-US9"
      }
    },
    {
      "cell_type": "code",
      "source": [
        "import numpy as np\n",
        "import pandas as pd\n",
        "import matplotlib.pyplot as plt\n",
        "import seaborn as sns\n",
        "from sklearn.linear_model import LogisticRegression\n",
        "from sklearn.model_selection import train_test_split\n",
        "from sklearn.svm import SVC\n",
        "from sklearn.model_selection import GridSearchCV\n",
        "from sklearn.metrics import accuracy_score, recall_score, precision_score\n",
        "from sklearn.metrics import confusion_matrix\n",
        "from sklearn.decomposition import PCA\n",
        "import matplotlib.colors as colors\n",
        "\n",
        "\n",
        "#이때 불러온 데이터를 기반으로 학습됨.\n",
        "  #불러온 데이터가 차별적일 시 차별적인 모델이 만들어진다.\n",
        "df = pd.read_csv(\"/content/drive/MyDrive/Colab Notebooks/heart.csv\")\n",
        "df.head()"
      ],
      "metadata": {
        "id": "vqRqRlHuzKC_"
      },
      "execution_count": null,
      "outputs": []
    },
    {
      "cell_type": "markdown",
      "source": [
        "#2. 데이터 전처리\n",
        "원핫인코딩, 정규화, training,test 세트 분리"
      ],
      "metadata": {
        "id": "qtsy4XNpLWe-"
      }
    },
    {
      "cell_type": "code",
      "source": [
        "#데이터를 컴퓨터가 이해할 수 있도록 수치화\n",
        "a = pd.get_dummies(df['cp'], prefix = \"cp\")\n",
        "b = pd.get_dummies(df['thal'], prefix = \"thal\")\n",
        "c = pd.get_dummies(df['slope'], prefix = \"slope\")\n",
        "frames = [df, a, b, c]\n",
        "df = pd.concat(frames, axis = 1)\n",
        "df = df.drop(columns = ['cp', 'thal', 'slope'])\n",
        "df.head()\n",
        "x_data = df.drop(['target'], axis = 1)\n",
        "x = (x_data - np.min(x_data)) / (np.max(x_data) - np.min(x_data)).values\n",
        "y = df.target.values\n",
        "\n",
        "#데이터를 train용과 test용 으로 분할: 수능준비에 있어 문제집과 실전모의고사와 같은 개념.\n",
        "  #train용: 모델 학습에 사용\n",
        "  #test용: 모델 평가에 사용(제대로 만들어졌나)\n",
        "x_train, x_test, y_train, y_test = train_test_split(x,y,test_size = 0.2,random_state=0)"
      ],
      "metadata": {
        "id": "ZvVWWTrvLZR4"
      },
      "execution_count": null,
      "outputs": []
    },
    {
      "cell_type": "markdown",
      "source": [
        "#3.모델링\n",
        "SVM, Deep Learning과 같은 알고리즘을 사용하여 모델을 생성합니다"
      ],
      "metadata": {
        "id": "hfWNPl0WPm7s"
      }
    },
    {
      "cell_type": "code",
      "source": [
        "svm = SVC(random_state = 42)"
      ],
      "metadata": {
        "id": "7E2bgsmdVDxa"
      },
      "execution_count": null,
      "outputs": []
    },
    {
      "cell_type": "markdown",
      "source": [
        "#4.모델학습\n",
        "생성된 모델을 학습시킵니다."
      ],
      "metadata": {
        "id": "pAz_mFt6PzmU"
      }
    },
    {
      "cell_type": "code",
      "source": [
        "#지도학습의 경우 train 할때 문제와 정답을 같이 준다.\n",
        "svm.fit(x_train, y_train)"
      ],
      "metadata": {
        "id": "R3Ip4O8bP3UW"
      },
      "execution_count": null,
      "outputs": []
    },
    {
      "cell_type": "markdown",
      "source": [
        "#5. 모델평가\n",
        "모델이 잘 만들어졌는지 평가합니다."
      ],
      "metadata": {
        "id": "F97hpaqiO_2_"
      }
    },
    {
      "cell_type": "code",
      "source": [
        "#대표적인 평가지표들\n",
        "def print_arp(y_head_svm):\n",
        "  acc = accuracy_score(y_test, y_head_svm)\n",
        "  rec = recall_score(y_test, y_head_svm)\n",
        "  prec= precision_score(y_test, y_head_svm)\n",
        "  print(\"Test Accuracy: {:.2f}\".format(acc))\n",
        "  print(\"Test recall: {:.2f}\".format(rec))\n",
        "  print(\"Test Precision: {:.2f}\".format(prec))\n",
        "  print()\n",
        "  return acc,rec,prec\n",
        "\n",
        "y_head_svm = svm.predict(x_test)\n",
        "print_arp(y_head_svm)\n",
        "\n",
        "\n",
        "#confusion_matrix 그려서 파악\n",
        "def draw_confusion_matrix(y_head_svm,n1):\n",
        "  cm_svm = confusion_matrix(y_test,y_head_svm)\n",
        "  plt.figure(figsize=(12,6))\n",
        "  plt.subplot(2,3,n1)\n",
        "  plt.title(\"Support Vector Machine Confusion Matrix\")\n",
        "  sns.heatmap(cm_svm,annot=True,annot_kws={\"size\": 24},fmt=\"d\",cmap=\"Blues\",cbar=False,xticklabels = ['Predicted positive','Predicted negative'],yticklabels=['Actual positive','Actual negative'])\n",
        "\n",
        "draw_confusion_matrix(y_head_svm,1)\n"
      ],
      "metadata": {
        "id": "N6qTJotXO_Ia"
      },
      "execution_count": null,
      "outputs": []
    },
    {
      "cell_type": "markdown",
      "source": [
        "#6.모델 활용\n"
      ],
      "metadata": {
        "id": "AlFOiBtVTDqO"
      }
    },
    {
      "cell_type": "code",
      "source": [
        "pca = PCA()\n",
        "X_train_pca = pca.fit_transform(x_train)\n",
        "\n",
        "def svm_draw(svm):\n",
        "  pc1 = X_train_pca[:, 0]\n",
        "  pc2 = X_train_pca[:, 1]\n",
        "  svm.fit(np.column_stack((pc1, pc2)), y_train)\n",
        "  x_min = pc1.min() - 1\n",
        "  x_max = pc1.max() + 1\n",
        "  y_min = pc2.min() - 1\n",
        "  y_max = pc2.max() + 1\n",
        "  xx, yy = np.meshgrid(np.arange(start=x_min, stop=x_max, step=0.1),\n",
        "                      np.arange(start=y_min, stop=y_max, step=0.1))\n",
        "\n",
        "\n",
        "  #임의의 데이터 생성\n",
        "  arg = np.column_stack((xx.ravel(), yy.ravel()))\n",
        "  print(\"투입된 데이터:\")\n",
        "  print(arg)\n",
        "\n",
        "  #임의의 데이터를 모델에 투입하여 예측\n",
        "  Z = svm.predict(arg)\n",
        "  Z = Z.reshape(xx.shape)\n",
        "\n",
        "\n",
        "  fig, ax = plt.subplots(figsize=(3,3))\n",
        "  ax.contourf(xx, yy, Z, alpha=0.1)\n",
        "  cmap = colors.ListedColormap(['#e41a1c', '#4daf4a'])\n",
        "  scatter = ax.scatter(pc1, pc2, c=y_train,\n",
        "                cmap=cmap,\n",
        "                s=100,\n",
        "                edgecolors='k',\n",
        "                alpha=0.7)\n",
        "  legend = ax.legend(scatter.legend_elements()[0],\n",
        "                    scatter.legend_elements()[1],\n",
        "                      loc=\"upper right\")\n",
        "  legend.get_texts()[0].set_text(\"No HD\")\n",
        "  legend.get_texts()[1].set_text(\"Yes HD\")\n",
        "  ax.set_ylabel('PC2')\n",
        "  ax.set_xlabel('PC1')\n",
        "  ax.set_title('Decison surface using the PCA transformed/projected features')\n",
        "  plt.show()\n",
        "\n",
        "\n",
        "print()\n",
        "svm_draw(svm)\n"
      ],
      "metadata": {
        "id": "HAKcYo9aS_HP"
      },
      "execution_count": null,
      "outputs": []
    }
  ]
}